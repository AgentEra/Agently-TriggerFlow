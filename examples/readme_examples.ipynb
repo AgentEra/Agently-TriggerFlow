{
 "cells": [
  {
   "cell_type": "code",
   "execution_count": 10,
   "metadata": {},
   "outputs": [
    {
     "name": "stdout",
     "output_type": "stream",
     "text": [
      "Some initial data: Let the show begin.\n",
      "You just input: Agently TriggerFlow\n",
      "I've been triggered\n"
     ]
    }
   ],
   "source": [
    "from agently_triggerflow import TriggerFlow\n",
    "\n",
    "flow = TriggerFlow()\n",
    "\n",
    "@flow.chunk\n",
    "def user_input(trigger_data):\n",
    "    print(\"Some initial data:\", trigger_data)\n",
    "    return input(\"Input something:\")\n",
    "\n",
    "@flow.chunk\n",
    "def echo(trigger_data):\n",
    "    print(\"You just input:\", trigger_data)\n",
    "    flow.data.set(\"trigger\", trigger_data)\n",
    "\n",
    "@flow.chunk\n",
    "def triggered(trigger_data):\n",
    "    print(\"I've been triggered\")\n",
    "\n",
    "flow.chunk(user_input).then(echo)\n",
    "flow.on_data(\"trigger\").then(triggered)\n",
    "\n",
    "flow.start(user_input, \"Let the show begin.\")\n",
    "pass"
   ]
  },
  {
   "cell_type": "code",
   "execution_count": 12,
   "metadata": {},
   "outputs": [
    {
     "name": "stdout",
     "output_type": "stream",
     "text": [
      "Times: 1\n",
      "Times: 2\n"
     ]
    }
   ],
   "source": [
    "from agently_triggerflow import TriggerFlow\n",
    "\n",
    "flow = TriggerFlow()\n",
    "\n",
    "@flow.chunk\n",
    "def count(_):\n",
    "    counter = flow.data.get(\"counter\", 0) + 1\n",
    "    print(\"Times:\", counter)\n",
    "    flow.data.set(\"counter\", counter)\n",
    "\n",
    "@flow.chunk\n",
    "def user_input(trigger_data):\n",
    "    return input(\"Exit[Y/N]:\")\n",
    "\n",
    "(\n",
    "    flow.wait(user_input)\n",
    "        .if_condition(lambda trigger_data: trigger_data.lower() != \"y\")\n",
    "            .then(count)\n",
    "            .then(user_input)\n",
    ")\n",
    "\n",
    "flow.start(user_input)\n",
    "pass"
   ]
  },
  {
   "cell_type": "code",
   "execution_count": 6,
   "metadata": {},
   "outputs": [
    {
     "name": "stdout",
     "output_type": "stream",
     "text": [
      "[Assistant]: Let \\( D \\) be the number of donkeys and \\( S \\) be the number of snails. We know the following:\n",
      "\n",
      "1. The total number of heads is 20:\n",
      "   \\[\n",
      "   D + S = 20\n",
      "   \\]\n",
      "2. The total number of legs is 36. Donkeys have 4 legs each, and snails have 0 legs each:\n",
      "   \\[\n",
      "   4D + 0S = 36\n",
      "   \\]\n",
      "\n",
      "From the second equation, we can solve for \\( D \\):\n",
      "   \\[\n",
      "   4D = 36 \\implies D = 9\n",
      "   \\]\n",
      "\n",
      "Substituting \\( D = 9 \\) into the first equation:\n",
      "   \\[\n",
      "   9 + S = 20 \\implies S = 11\n",
      "   \\]\n",
      "\n",
      "Thus, there are \\(\\boxed{9}\\) donkeys and \\(\\boxed{11}\\) snails in the cage."
     ]
    }
   ],
   "source": [
    "#!pip install Agently==3.4.1.2\n",
    "import Agently\n",
    "from agently_triggerflow import TriggerFlow\n",
    "\n",
    "flow = TriggerFlow()\n",
    "\n",
    "agent = (\n",
    "    Agently.create_agent()\n",
    "        .set_settings(\"current_model\", \"OAIClient\")\n",
    "        .set_settings(\"model.OAIClient.auth\", { \"api_key\": \"<Your-API-Key>\" })\n",
    "        .set_settings(\"model.OAIClient.url\", \"https://api.deepseek.com/v1\")\n",
    "        .set_settings(\"model.OAIClient.options\", { \"model\": \"deepseek-reasoner\" })\n",
    ")\n",
    "\n",
    "@flow.chunk\n",
    "def user_input(trigger_data):\n",
    "    return input(\"[User]:\")\n",
    "\n",
    "@flow.chunk\n",
    "def agent_response(trigger_data):\n",
    "    response = (\n",
    "        agent\n",
    "            .input(trigger_data)\n",
    "            .get_delta_generator()\n",
    "    )\n",
    "    for item in response:\n",
    "        flow.result.put(item)\n",
    "    flow.result.put_stop()\n",
    "\n",
    "flow.chunk(user_input).to(agent_response)\n",
    "response = flow.start()\n",
    "print(\"[Assistant]: \", end=\"\")\n",
    "for delta in response:\n",
    "    print(delta, end=\"\", flush=True)"
   ]
  },
  {
   "cell_type": "code",
   "execution_count": null,
   "metadata": {},
   "outputs": [
    {
     "name": "stdout",
     "output_type": "stream",
     "text": [
      "[Assistant]: Good day to you too! Hope you're doing well. What are your plans for today? 请您告诉我今天有什么计划！\n",
      "[Assistant]: My name is文心一言 (ERNIE Bot), a generative dialogue product based on the Wenxin Big Model technology developed by Baidu. I am designed to answer various questions and provide useful information to help people solve problems. I am also capable of performing tasks such as language understanding, generating responses, and even handling some basic AI conversational interactions.\n"
     ]
    },
    {
     "data": {
      "text/plain": [
       "'#exit'"
      ]
     },
     "execution_count": 5,
     "metadata": {},
     "output_type": "execute_result"
    }
   ],
   "source": [
    "import Agently\n",
    "from agently_triggerflow import TriggerFlow\n",
    "\n",
    "flow = TriggerFlow()\n",
    "\n",
    "agent = (\n",
    "    Agently.create_agent()\n",
    "        .set_settings(\"current_model\", \"ERNIE\")\\\n",
    "        .set_settings(\"model.ERNIE.auth\", {\n",
    "            \"aistudio\": \"<Your-Baidu-AIStudio-Access-Token>\",\n",
    "        })\n",
    "        .set_settings(\"model.ERNIE.options\", { \"model\": \"ernie-speed\" })\n",
    ")\n",
    "\n",
    "@flow.chunk\n",
    "def user_input(trigger_data):\n",
    "    return input(\"[User]:\")\n",
    "\n",
    "@flow.chunk\n",
    "def agent_response(trigger_data):\n",
    "    response = (\n",
    "        agent\n",
    "            .input(trigger_data)\n",
    "            .get_delta_generator()\n",
    "    )\n",
    "    reply = \"\"\n",
    "    print(\"[Assistant]: \", end=\"\")\n",
    "    for delta in response:\n",
    "        reply += delta\n",
    "        print(delta, end=\"\", flush=True)\n",
    "    print(\"\")\n",
    "\n",
    "@flow.chunk\n",
    "def add_chat_history(trigger_data):\n",
    "    chat_history = flow.data.get(\"chat_history\", [])\n",
    "    chat_history.append({ \"role\": \"user\", \"content\": trigger_data[\"user_input\"] })\n",
    "    chat_history.append({ \"role\": \"assistant\", \"content\": trigger_data[\"user_input\"] })\n",
    "    flow.data.set(\"chat_history\", chat_history)\n",
    "\n",
    "(\n",
    "    flow\n",
    "        .wait(user_input)\n",
    "        .if_condition(lambda trigger_data: trigger_data != \"#exit\")\n",
    "            .to(agent_response)\n",
    "        .else_condition()\n",
    "            .to(flow.END)\n",
    ")\n",
    "(\n",
    "    flow\n",
    "        .wait_all(user_input, agent_response)\n",
    "            .to(add_chat_history)\n",
    "            .to(user_input)\n",
    ")\n",
    "\n",
    "flow.start()"
   ]
  }
 ],
 "metadata": {
  "kernelspec": {
   "display_name": "3.9",
   "language": "python",
   "name": "python3"
  },
  "language_info": {
   "codemirror_mode": {
    "name": "ipython",
    "version": 3
   },
   "file_extension": ".py",
   "mimetype": "text/x-python",
   "name": "python",
   "nbconvert_exporter": "python",
   "pygments_lexer": "ipython3",
   "version": "3.9.20"
  }
 },
 "nbformat": 4,
 "nbformat_minor": 2
}
